{
 "cells": [
  {
   "cell_type": "markdown",
   "metadata": {},
   "source": [
    "# SVM\n",
    "\n",
    "## Часть 1, SVM для линейно разделимых и неразделимых датасетов, проверка результатов на ирисах."
   ]
  },
  {
   "cell_type": "markdown",
   "metadata": {},
   "source": [
    "Реализованы классификаторы для линейно разделимой выборки с двумя классами (SVM_Linear), с произвольным количеством классов (SVM_Linear_Multiclass) и неразделимой выборки с двумя классами (SVM_Nonlinear) и произвольным количеством классов (SVM_Nonlinear_Multiclass). Код в файле svm.py.\n",
    "\n",
    "Результаты кросс-валидации и сравнение с реализацией из sklearn (два класса ирисов объединены, используется бинарная классификация):"
   ]
  },
  {
   "cell_type": "code",
   "execution_count": 1,
   "metadata": {
    "collapsed": false
   },
   "outputs": [
    {
     "name": "stdout",
     "output_type": "stream",
     "text": [
      "CV result for Linear SVM: 0.8733333333333334\n",
      "CV result for Nonlinear SVM: 0.6\n",
      "CV result for sklearn SVM: 0.993333333333\n"
     ]
    }
   ],
   "source": [
    "import warnings\n",
    "with warnings.catch_warnings():\n",
    "    warnings.filterwarnings(\"ignore\", category=DeprecationWarning)\n",
    "    from sklearn.svm import SVC\n",
    "    from import_labs import import_labs\n",
    "    from sklearn import datasets\n",
    "    from svm import SVM_Linear as SVM_L, SVM_Nonlinear as SVM_N\n",
    "    from numpy import dot\n",
    "\n",
    "import_labs([\"task3/\"])\n",
    "from CV import k_fold\n",
    "\n",
    "iris = datasets.load_iris()\n",
    "iris_x = []\n",
    "iris_y = []\n",
    "for i in range(150):\n",
    "    if iris.target[i] == 1:\n",
    "        iris_x.append(iris.data[i])\n",
    "        iris_y.append(1)\n",
    "    else:\n",
    "        iris_x.append(iris.data[i])\n",
    "        iris_y.append(-1)\n",
    "\n",
    "def kernel(x, y):\n",
    "    return (1 + dot(x, y)) ** 2\n",
    "\n",
    "svm_l = SVM_L()\n",
    "svm_n = SVM_N(kernel, 1000)\n",
    "svm_sk = SVC()\n",
    "svm_sk.fit(iris_x, iris_y)\n",
    "\n",
    "print(\"CV result for Linear SVM: %s\" % k_fold(5, iris_x, iris_y, svm_l))\n",
    "print(\"CV result for Nonlinear SVM: %s\" % k_fold(5, iris_x, iris_y, svm_n))\n",
    "print(\"CV result for sklearn SVM: %s\" % svm_sk.score(iris_x, iris_y))"
   ]
  },
  {
   "cell_type": "markdown",
   "metadata": {},
   "source": [
    "Как видно, kernel trick с ядром K(x, y) = (1 + (x, y))^3 существенно ухудшил результаты, так как выборка изначально была линейно разделима."
   ]
  },
  {
   "cell_type": "markdown",
   "metadata": {
    "collapsed": true
   },
   "source": [
    "Результаты кросс-валидации и сравнение с реализацией из sklearn (классы не изменялись, используется стратегия \"один против всех\"):"
   ]
  },
  {
   "cell_type": "code",
   "execution_count": 3,
   "metadata": {
    "collapsed": false
   },
   "outputs": [
    {
     "name": "stdout",
     "output_type": "stream",
     "text": [
      "CV result for Linear SVM: 0.3333333333333333\n",
      "CV result for Nonlinear SVM: 0.3333333333333333\n",
      "CV result for sklearn SVM: 0.986666666667\n"
     ]
    }
   ],
   "source": [
    "import warnings\n",
    "with warnings.catch_warnings():\n",
    "    warnings.filterwarnings(\"ignore\", category=DeprecationWarning)\n",
    "    from sklearn.svm import SVC\n",
    "    from import_labs import import_labs\n",
    "    from sklearn import datasets\n",
    "    from svm import SVM_Linear_Multiclass as SVM_LM, SVM_Nonlinear_Multiclass as SVM_NM\n",
    "    from numpy import dot\n",
    "\n",
    "import_labs([\"task3/\"])\n",
    "from CV import k_fold\n",
    "\n",
    "iris = datasets.load_iris()\n",
    "iris_x = iris.data\n",
    "iris_y = iris.target\n",
    "\n",
    "def kernel(x, y):\n",
    "    return (1 + dot(x, y)) ** 2\n",
    "\n",
    "svm_lm = SVM_LM()\n",
    "svm_nm = SVM_NM(kernel, 1000)\n",
    "svm_sk = SVC()\n",
    "svm_sk.fit(iris_x, iris_y)\n",
    "\n",
    "print(\"CV result for Linear SVM: %s\" % k_fold(5, iris_x, iris_y, svm_lm))\n",
    "print(\"CV result for Nonlinear SVM: %s\" % k_fold(5, iris_x, iris_y, svm_nm))\n",
    "print(\"CV result for sklearn SVM: %s\" % svm_sk.score(iris_x, iris_y))"
   ]
  },
  {
   "cell_type": "markdown",
   "metadata": {},
   "source": [
    "## Часть 2, grid search параметра С"
   ]
  },
  {
   "cell_type": "code",
   "execution_count": 2,
   "metadata": {
    "collapsed": false
   },
   "outputs": [
    {
     "name": "stdout",
     "output_type": "stream",
     "text": [
      "Best c: 0.01\n"
     ]
    }
   ],
   "source": [
    "import warnings\n",
    "with warnings.catch_warnings():\n",
    "    warnings.filterwarnings(\"ignore\", category=DeprecationWarning)\n",
    "    from sklearn.svm import SVC\n",
    "    from import_labs import import_labs\n",
    "    from sklearn import datasets\n",
    "    from svm import SVM_Nonlinear_Multiclass as SVM_NM\n",
    "    from numpy import dot\n",
    "\n",
    "import_labs([\"task3/\"])\n",
    "from CV import k_fold\n",
    "\n",
    "iris = datasets.load_iris()\n",
    "iris_x = iris.data\n",
    "iris_y = iris.target\n",
    "\n",
    "def kernel(x, y):\n",
    "    return (dot(x, y)) ** 2\n",
    "\n",
    "ans = 0\n",
    "best_c = 0\n",
    "for i in range(1, 100):\n",
    "    svm_nm = SVM_NM(kernel, i / 100)\n",
    "    val = k_fold(5, iris_x, iris_y, svm_nm)\n",
    "    if val > ans:\n",
    "        ans = val\n",
    "        best_c = i / 100\n",
    "print(\"Best c: %s\" % best_c)"
   ]
  },
  {
   "cell_type": "markdown",
   "metadata": {},
   "source": [
    "Как видно, лучшим стал с = 0.01"
   ]
  },
  {
   "cell_type": "markdown",
   "metadata": {},
   "source": [
    "## Часть 3, анализ алгоритма"
   ]
  },
  {
   "cell_type": "markdown",
   "metadata": {},
   "source": [
    "Время работы алгоритма, вообще говоря, сильно зависит от алгоритма поиска минимума квадратичной формы, но если принять его на M(f), то асимптотика будет O(KN^2 * M(f)), где K — количество классов. Алгоритм использует O(KN) памяти. Посмотрим, как SVM справится с задачей MNIST."
   ]
  },
  {
   "cell_type": "code",
   "execution_count": null,
   "metadata": {
    "collapsed": false
   },
   "outputs": [],
   "source": [
    "import warnings\n",
    "with warnings.catch_warnings():\n",
    "    warnings.filterwarnings(\"ignore\", category=DeprecationWarning)\n",
    "    from sklearn.svm import SVC\n",
    "    from import_labs import import_labs\n",
    "    from main_t5 import *\n",
    "    from numpy import reshape\n",
    "\n",
    "svm_sk = SVC()\n",
    "svm_sk.fit(reshape(train_images, (60000, 784)), train_labels)\n",
    "print(\"Learning completed.\")\n",
    "print(\"Score for shifted 1 px up image: %s\" % svm_sk.score(reshape(img_shift_x0y1, (10000, 784)), test_labels))\n",
    "print(\"Score for shifted 5 px up image: %s\" % svm_sk.score(reshape(img_shift_x0y5, (10000, 784)), test_labels))\n",
    "print(\"Score for shifted 1 px left image: %s\" % svm_sk.score(reshape(img_shift_x1y0, (10000, 784)), test_labels))\n",
    "print(\"Score for shifted 5 px left image: %s\" % svm_sk.score(reshape(img_shift_x5y0, (10000, 784)), test_labels))\n",
    "print(\"Score for shifted rotated image: %s\" % svm_sk.score(reshape(img_rotate, (10000, 784)), test_labels))"
   ]
  },
  {
   "cell_type": "code",
   "execution_count": null,
   "metadata": {
    "collapsed": true
   },
   "outputs": [],
   "source": []
  }
 ],
 "metadata": {
  "kernelspec": {
   "display_name": "Python 3",
   "language": "python",
   "name": "python3"
  },
  "language_info": {
   "codemirror_mode": {
    "name": "ipython",
    "version": 3
   },
   "file_extension": ".py",
   "mimetype": "text/x-python",
   "name": "python",
   "nbconvert_exporter": "python",
   "pygments_lexer": "ipython3",
   "version": "3.4.3"
  }
 },
 "nbformat": 4,
 "nbformat_minor": 0
}
