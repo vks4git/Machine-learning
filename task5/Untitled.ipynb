{
 "cells": [
  {
   "cell_type": "markdown",
   "metadata": {},
   "source": [
    "# SVM\n",
    "\n",
    "## Часть 1, SVM для линейно разделимых и неразделимых датасетов, проверка результатов на ирисах."
   ]
  },
  {
   "cell_type": "markdown",
   "metadata": {},
   "source": [
    "Реализованы классификаторы для линейно разделимой выборки с двумя классами (SVM_Linear), с произвольным количеством классов (SVM_Linear_Multiclass) и неразделимой выборки с двумя классами (SVM_Nonlinear) и произвольным количеством классов (SVM_Nonlinear_Multiclass). Код в файле svm.py.\n",
    "\n",
    "Результаты кросс-валидации и сравнение с реализацией из sklearn (два класса ирисов объединены, используется бинарная классификация):"
   ]
  },
  {
   "cell_type": "code",
   "execution_count": 1,
   "metadata": {
    "collapsed": false
   },
   "outputs": [
    {
     "name": "stdout",
     "output_type": "stream",
     "text": [
      "CV result for Linear SVM: 0.8733333333333334\n",
      "CV result for Nonlinear SVM: 0.6\n",
      "CV result for sklearn SVM: 0.993333333333\n"
     ]
    }
   ],
   "source": [
    "import warnings\n",
    "with warnings.catch_warnings():\n",
    "    warnings.filterwarnings(\"ignore\", category=DeprecationWarning)\n",
    "    from sklearn.svm import SVC\n",
    "    from import_labs import import_labs\n",
    "    from sklearn import datasets\n",
    "    from svm import SVM_Linear as SVM_L, SVM_Nonlinear as SVM_N\n",
    "    from numpy import dot\n",
    "\n",
    "import_labs([\"task3/\"])\n",
    "from CV import k_fold\n",
    "\n",
    "iris = datasets.load_iris()\n",
    "iris_x = []\n",
    "iris_y = []\n",
    "for i in range(150):\n",
    "    if iris.target[i] == 1:\n",
    "        iris_x.append(iris.data[i])\n",
    "        iris_y.append(1)\n",
    "    else:\n",
    "        iris_x.append(iris.data[i])\n",
    "        iris_y.append(-1)\n",
    "\n",
    "def kernel(x, y):\n",
    "    return (1 + dot(x, y)) ** 2\n",
    "\n",
    "svm_l = SVM_L()\n",
    "svm_n = SVM_N(kernel, 1000)\n",
    "svm_sk = SVC()\n",
    "svm_sk.fit(iris_x, iris_y)\n",
    "\n",
    "print(\"CV result for Linear SVM: %s\" % k_fold(5, iris_x, iris_y, svm_l))\n",
    "print(\"CV result for Nonlinear SVM: %s\" % k_fold(5, iris_x, iris_y, svm_n))\n",
    "print(\"CV result for sklearn SVM: %s\" % svm_sk.score(iris_x, iris_y))"
   ]
  },
  {
   "cell_type": "markdown",
   "metadata": {},
   "source": [
    "Как видно, kernel trick с ядром K(x, y) = (1 + (x, y))^3 существенно ухудшил результаты, так как выборка изначально была линейно разделима."
   ]
  },
  {
   "cell_type": "markdown",
   "metadata": {
    "collapsed": true
   },
   "source": [
    "Результаты кросс-валидации и сравнение с реализацией из sklearn (классы не изменялись, используется стратегия \"один против всех\"):"
   ]
  },
  {
   "cell_type": "code",
   "execution_count": null,
   "metadata": {
    "collapsed": false
   },
   "outputs": [],
   "source": [
    "import warnings\n",
    "with warnings.catch_warnings():\n",
    "    warnings.filterwarnings(\"ignore\", category=DeprecationWarning)\n",
    "    from sklearn.svm import SVC\n",
    "    from import_labs import import_labs\n",
    "    from sklearn import datasets\n",
    "    from svm import SVM_Linear_Multiclass as SVM_LM, SVM_Nonlinear_Multiclass as SVM_NM\n",
    "    from numpy import dot\n",
    "\n",
    "import_labs([\"task3/\"])\n",
    "from CV import k_fold\n",
    "\n",
    "iris = datasets.load_iris()\n",
    "iris_x = iris.data\n",
    "iris_y = iris.target\n",
    "\n",
    "def kernel(x, y):\n",
    "    return (1 + dot(x, y)) ** 2\n",
    "\n",
    "svm_lm = SVM_LM()\n",
    "svm_nm = SVM_NM(kernel, 1000)\n",
    "svm_sk = SVC()\n",
    "svm_sk.fit(iris_x, iris_y)\n",
    "\n",
    "print(\"CV result for Linear SVM: %s\" % k_fold(5, iris_x, iris_y, svm_lm))\n",
    "print(\"CV result for Nonlinear SVM: %s\" % k_fold(5, iris_x, iris_y, svm_nm))\n",
    "print(\"CV result for sklearn SVM: %s\" % svm_sk.score(iris_x, iris_y))"
   ]
  },
  {
   "cell_type": "markdown",
   "metadata": {},
   "source": [
    "## Часть 2, grid search параметра С"
   ]
  },
  {
   "cell_type": "code",
   "execution_count": null,
   "metadata": {
    "collapsed": true
   },
   "outputs": [],
   "source": [
    "import warnings\n",
    "with warnings.catch_warnings():\n",
    "    warnings.filterwarnings(\"ignore\", category=DeprecationWarning)\n",
    "    from sklearn.svm import SVC\n",
    "    from import_labs import import_labs\n",
    "    from sklearn import datasets\n",
    "    from svm import SVM_Nonlinear as SVM_N\n",
    "    from numpy import dot\n",
    "\n",
    "import_labs([\"task3/\"])\n",
    "from CV import k_fold\n",
    "\n",
    "iris = datasets.load_iris()\n",
    "iris_x = iris.data\n",
    "iris_y = iris.target\n",
    "\n",
    "def kernel(x, y):\n",
    "    return (1 + dot(x, y)) ** 2\n",
    "\n",
    "for i in range(1, 20):\n",
    "    svm_n = SVM_N(kernel, i)\n",
    "    print(\"CV result for Nonlinear SVM: %s (using c = %s)\" % (k_fold(5, iris_x, iris_y, svm_n), i))"
   ]
  },
  {
   "cell_type": "markdown",
   "metadata": {},
   "source": [
    "Как видно, лучшим стал с = "
   ]
  },
  {
   "cell_type": "markdown",
   "metadata": {},
   "source": [
    "## Часть 3, анализ алгоритма"
   ]
  },
  {
   "cell_type": "markdown",
   "metadata": {},
   "source": [
    "(здесь будет текст после завершения вычислений)"
   ]
  }
 ],
 "metadata": {
  "kernelspec": {
   "display_name": "Python 3",
   "language": "python",
   "name": "python3"
  },
  "language_info": {
   "codemirror_mode": {
    "name": "ipython",
    "version": 3
   },
   "file_extension": ".py",
   "mimetype": "text/x-python",
   "name": "python",
   "nbconvert_exporter": "python",
   "pygments_lexer": "ipython3",
   "version": "3.4.3"
  }
 },
 "nbformat": 4,
 "nbformat_minor": 0
}
