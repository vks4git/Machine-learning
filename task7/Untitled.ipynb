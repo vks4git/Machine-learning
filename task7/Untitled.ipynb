{
 "cells": [
  {
   "cell_type": "markdown",
   "metadata": {},
   "source": [
    "# Кластеризация"
   ]
  },
  {
   "cell_type": "markdown",
   "metadata": {},
   "source": [
    "В качестве меры крутости алгоритмов использовалась суммарная энтропия кластеров, а для DBScan ещё и количество кластеров. Путём перебора параметорв для DBScan удалось установить, что правильно разделяет цифры он при радиусе равном 4.795 и минимальном количестве соседей core point равном 50. Сравнение этих алгоритмов на подвыборке из 1000 цифр (т.к. на всех 60000 работает невероятно долго):"
   ]
  },
  {
   "cell_type": "code",
   "execution_count": 3,
   "metadata": {
    "collapsed": false
   },
   "outputs": [
    {
     "name": "stdout",
     "output_type": "stream",
     "text": [
      "Summary k-means clusters entropy: 0.331556966204\n",
      "Summary dbscan clusters entropy: 0.995731623441\n",
      "Clusters found by dbscan: 10 \n"
     ]
    }
   ],
   "source": [
    "from kmeans import K_means\n",
    "from dbscan import DBScan\n",
    "from idx2numpy import convert_from_file\n",
    "import numpy\n",
    "\n",
    "images = numpy.reshape(convert_from_file(\"train-images.idx3-ubyte\"), (60000, 784)).astype(\"float64\")\n",
    "labels = convert_from_file(\"train-labels.idx1-ubyte\")\n",
    "images = numpy.multiply(images, 1 / 255)\n",
    "\n",
    "\n",
    "kmeans = K_means(10, 10)\n",
    "kmeans.fit(numpy.array([images[i] for i in range(1000)]))\n",
    "print(\"Summary k-means clusters entropy: %s\" % kmeans.score(numpy.array([labels[i] for i in range(1000)])))\n",
    "\n",
    "dbscan = DBScan(4.795, 50)\n",
    "dbscan.fit(numpy.array([images[i] for i in range(1000)]))\n",
    "print(\"Summary dbscan clusters entropy: %s\" % dbscan.score(numpy.array([labels[i] for i in range(1000)])))\n",
    "print(\"Clusters found by dbscan: %s \" % dbscan.clusters())"
   ]
  },
  {
   "cell_type": "markdown",
   "metadata": {},
   "source": [
    "Как видно, k-means кластеризовал данные гораздо лучше — суммарная энтропия в три раза меньше, однако dbscan не нужно заранее знать количество кластеров."
   ]
  },
  {
   "cell_type": "markdown",
   "metadata": {},
   "source": [
    "## Анализ алгоритмов"
   ]
  },
  {
   "cell_type": "markdown",
   "metadata": {},
   "source": [
    "Из плюсов k-means можно отметить его достаточно быструю работу и очень быструю сходимость, по крайней мере на наборе MNIST. \n",
    "Из минусов — необходимость знать заранее количество кластеров.\n",
    "Однако хотя dbscan и не нужно их задавать, он очень сильно зависит от параметров. Вот примеры, как незначительное \n",
    "варьирование радиуса и количества соседних точек влияет на точность:"
   ]
  },
  {
   "cell_type": "code",
   "execution_count": 8,
   "metadata": {
    "collapsed": false
   },
   "outputs": [
    {
     "name": "stdout",
     "output_type": "stream",
     "text": [
      "Decreasing radius by 0.1.\n",
      "Summary dbscan clusters entropy: 1.10418169756\n",
      "Clusters found by dbscan: 7 \n",
      "\n",
      "Increasing radius by 0.1.\n",
      "Summary dbscan clusters entropy: 0.913794314102\n",
      "Clusters found by dbscan: 15 \n",
      "\n",
      "Decreasing neighbours by 20.\n",
      "Summary dbscan clusters entropy: 0.995731623441\n",
      "Clusters found by dbscan: 10 \n",
      "\n",
      "Increasing neighbours by 20.\n",
      "Summary dbscan clusters entropy: 1.10636847049\n",
      "Clusters found by dbscan: 9 \n"
     ]
    }
   ],
   "source": [
    "from kmeans import K_means\n",
    "from dbscan import DBScan\n",
    "from idx2numpy import convert_from_file\n",
    "import numpy\n",
    "\n",
    "images = numpy.reshape(convert_from_file(\"train-images.idx3-ubyte\"), (60000, 784)).astype(\"float64\")\n",
    "labels = convert_from_file(\"train-labels.idx1-ubyte\")\n",
    "images = numpy.multiply(images, 1 / 255)\n",
    "\n",
    "print(\"Decreasing radius by 0.1.\")\n",
    "dbscan = DBScan(4.895, 50)\n",
    "dbscan.fit(numpy.array([images[i] for i in range(1000)]))\n",
    "print(\"Summary dbscan clusters entropy: %s\" % dbscan.score(numpy.array([labels[i] for i in range(1000)])))\n",
    "print(\"Clusters found by dbscan: %s \\n\" % dbscan.clusters())\n",
    "\n",
    "print(\"Increasing radius by 0.1.\")\n",
    "dbscan = DBScan(4.695, 50)\n",
    "dbscan.fit(numpy.array([images[i] for i in range(1000)]))\n",
    "print(\"Summary dbscan clusters entropy: %s\" % dbscan.score(numpy.array([labels[i] for i in range(1000)])))\n",
    "print(\"Clusters found by dbscan: %s \\n\" % dbscan.clusters())\n",
    "\n",
    "print(\"Decreasing neighbours by 20.\")\n",
    "dbscan = DBScan(4.795, 30)\n",
    "dbscan.fit(numpy.array([images[i] for i in range(1000)]))\n",
    "print(\"Summary dbscan clusters entropy: %s\" % dbscan.score(numpy.array([labels[i] for i in range(1000)])))\n",
    "print(\"Clusters found by dbscan: %s \\n\" % dbscan.clusters())\n",
    "\n",
    "print(\"Increasing neighbours by 20.\")\n",
    "dbscan = DBScan(4.795, 70)\n",
    "dbscan.fit(numpy.array([images[i] for i in range(1000)]))\n",
    "print(\"Summary dbscan clusters entropy: %s\" % dbscan.score(numpy.array([labels[i] for i in range(1000)])))\n",
    "print(\"Clusters found by dbscan: %s \" % dbscan.clusters())"
   ]
  },
  {
   "cell_type": "markdown",
   "metadata": {},
   "source": [
    "## Асимптотика и память"
   ]
  },
  {
   "cell_type": "markdown",
   "metadata": {},
   "source": [
    "Время работы dbscan — квадратичное в худшем случае, перед каждым вызовом expand приходится перебирать все данные в поисках соседей. Kd-деревья при таких размерностях не помогут, поэтому их использовать для обработки range query бесполезно. Память — O(N). \n",
    "Время работы kmeans — O(NlogN), память — O(N)."
   ]
  },
  {
   "cell_type": "code",
   "execution_count": null,
   "metadata": {
    "collapsed": true
   },
   "outputs": [],
   "source": []
  }
 ],
 "metadata": {
  "kernelspec": {
   "display_name": "Python 3",
   "language": "python",
   "name": "python3"
  },
  "language_info": {
   "codemirror_mode": {
    "name": "ipython",
    "version": 3
   },
   "file_extension": ".py",
   "mimetype": "text/x-python",
   "name": "python",
   "nbconvert_exporter": "python",
   "pygments_lexer": "ipython3",
   "version": "3.4.3+"
  }
 },
 "nbformat": 4,
 "nbformat_minor": 0
}
