{
 "cells": [
  {
   "cell_type": "markdown",
   "metadata": {},
   "source": [
    "# kNN"
   ]
  },
  {
   "cell_type": "markdown",
   "metadata": {},
   "source": [
    "## Часть 1. Наивный и взвешенный kNN, различные метрики."
   ]
  },
  {
   "cell_type": "markdown",
   "metadata": {},
   "source": [
    "Наивный kNN:"
   ]
  },
  {
   "cell_type": "code",
   "execution_count": 1,
   "metadata": {
    "collapsed": true
   },
   "outputs": [],
   "source": [
    "class Naive_kNN:\n",
    "    def __init__(self, k=10, metrics=euclides):\n",
    "        self._dataset = []\n",
    "        self._metrics = metrics\n",
    "        self._k = k\n",
    "\n",
    "    def set_k(self, k):\n",
    "        self._k = k\n",
    "\n",
    "    def fit(self, data_x, data_y):\n",
    "        self._dataset = [data_x, data_y]\n",
    "\n",
    "    def predict(self, element):\n",
    "        distances = []\n",
    "        for i in range(len(self._dataset[0])):\n",
    "            distances.append((self._metrics(self._dataset[0][i], element), self._dataset[1][i]))\n",
    "        distances.sort()\n",
    "        types = {}\n",
    "        for i in range(self._k):\n",
    "            if distances[i][1] not in types.keys():\n",
    "                types[distances[i][1]] = 0\n",
    "            types[distances[i][1]] += 1\n",
    "        max_type = -1\n",
    "        max_val = -1\n",
    "        for k, v in types.items():\n",
    "            if v > max_val:\n",
    "                max_val = v\n",
    "                max_type = k\n",
    "        return max_type"
   ]
  },
  {
   "cell_type": "markdown",
   "metadata": {},
   "source": [
    "Взвешенный kNN:"
   ]
  },
  {
   "cell_type": "code",
   "execution_count": 2,
   "metadata": {
    "collapsed": true
   },
   "outputs": [],
   "source": [
    "class Weighted_kNN:\n",
    "    def __init__(self, k=10, metrics=euclides):\n",
    "        self._dataset = []\n",
    "        self._metrics = metrics\n",
    "        self._k = k\n",
    "\n",
    "    def fit(self, data_x, data_y):\n",
    "        self._dataset = [data_x, data_y]\n",
    "        data_size = len(self._dataset[0])\n",
    "        vec_size = len(self._dataset[0][0])\n",
    "        max_vec = [0 for i in range(vec_size)]\n",
    "        for i in self._dataset[0]:\n",
    "            for j in range(len(i)):\n",
    "                max_vec[j] = max(max_vec[j], i[j])\n",
    "        for i in range(data_size):\n",
    "            for j in range(vec_size):\n",
    "                self._dataset[0][j] /= max_vec[j]\n",
    "\n",
    "    def set_k(self, k):\n",
    "        self._k = k\n",
    "\n",
    "    def predict(self, element):\n",
    "        distances = []\n",
    "        for i in range(len(self._dataset[0])):\n",
    "            distances.append((self._metrics(self._dataset[0][i], element), self._dataset[1][i]))\n",
    "        distances.sort()\n",
    "        types = {}\n",
    "        for i in range(self._k):\n",
    "            if distances[i][1] not in types.keys():\n",
    "                types[distances[i][1]] = 0\n",
    "            types[distances[i][1]] += 1\n",
    "        max_type = -1\n",
    "        max_val = -1\n",
    "        for k, v in types.items():\n",
    "            if v > max_val:\n",
    "                max_val = v\n",
    "                max_type = k\n",
    "        return max_type"
   ]
  },
  {
   "cell_type": "markdown",
   "metadata": {},
   "source": [
    "Манхэттенское расстояние:"
   ]
  },
  {
   "cell_type": "code",
   "execution_count": 3,
   "metadata": {
    "collapsed": true
   },
   "outputs": [],
   "source": [
    "def manhattan(x, y):\n",
    "    ans = 0.0\n",
    "    for i in range(len(x)):\n",
    "        ans += abs(x[i] - y[i])\n",
    "    return ans"
   ]
  },
  {
   "cell_type": "markdown",
   "metadata": {},
   "source": [
    "Евклидово расстояние:"
   ]
  },
  {
   "cell_type": "code",
   "execution_count": 4,
   "metadata": {
    "collapsed": true
   },
   "outputs": [],
   "source": [
    "def euclides(x, y):\n",
    "    ans = 0.0\n",
    "    for i in range(len(x)):\n",
    "        ans += (x[i] - y[i]) ** 2\n",
    "    return math.sqrt(ans)"
   ]
  },
  {
   "cell_type": "markdown",
   "metadata": {},
   "source": [
    "Метрика l-inf:"
   ]
  },
  {
   "cell_type": "code",
   "execution_count": 5,
   "metadata": {
    "collapsed": true
   },
   "outputs": [],
   "source": [
    "def l_inf(x, y):\n",
    "    ans = 0.0\n",
    "    for i in range(len(x)):\n",
    "        ans = max(ans, abs(x[i] - y[i]))\n",
    "    return ans"
   ]
  },
  {
   "cell_type": "markdown",
   "metadata": {},
   "source": [
    "### Примеры\n",
    "Здесь набор из некоторых векторов классифицируется наивным и взвешенным kNN с различными метриками."
   ]
  },
  {
   "cell_type": "markdown",
   "metadata": {},
   "source": [
    "#### Евклидова метрика"
   ]
  },
  {
   "cell_type": "code",
   "execution_count": 1,
   "metadata": {
    "collapsed": false
   },
   "outputs": [
    {
     "name": "stdout",
     "output_type": "stream",
     "text": [
      "kNN: 1, weighted kNN: 1\n",
      "kNN: 0, weighted kNN: 0\n",
      "kNN: 1, weighted kNN: 1\n",
      "kNN: 1, weighted kNN: 1\n",
      "kNN: 2, weighted kNN: 2\n"
     ]
    }
   ],
   "source": [
    "import pickle\n",
    "from kNN import *\n",
    "from metrics import *\n",
    "\n",
    "with open(\"iris.txt\", \"rb\") as f:\n",
    "    data, types = pickle.load(f, encoding=\"latin-1\")\n",
    "\n",
    "knn = Naive_kNN(metrics=euclides)\n",
    "wknn = Weighted_kNN(metrics=euclides)\n",
    "knn.fit(data, types)\n",
    "wknn.fit(data, types)\n",
    "test = [[6.8, 3.3, 4.6, 1.5],\n",
    "        [5, 3, 1.4, 0.2],\n",
    "        [5.1, 2, 3.1, 1.1],\n",
    "        [6.9, 5, 3, 1.5],\n",
    "        [7.1, 3.3, 5.1, 2]]\n",
    "for v in test:\n",
    "    print(\"kNN: %s, weighted kNN: %s\" % (knn.predict(v), wknn.predict(v)))"
   ]
  },
  {
   "cell_type": "markdown",
   "metadata": {},
   "source": [
    "#### Манхэттенская метрика"
   ]
  },
  {
   "cell_type": "code",
   "execution_count": 2,
   "metadata": {
    "collapsed": false
   },
   "outputs": [
    {
     "name": "stdout",
     "output_type": "stream",
     "text": [
      "kNN: 1, weighted kNN: 1\n",
      "kNN: 0, weighted kNN: 0\n",
      "kNN: 1, weighted kNN: 1\n",
      "kNN: 1, weighted kNN: 1\n",
      "kNN: 2, weighted kNN: 2\n"
     ]
    }
   ],
   "source": [
    "import pickle\n",
    "from kNN import *\n",
    "from metrics import *\n",
    "\n",
    "with open(\"iris.txt\", \"rb\") as f:\n",
    "    data, types = pickle.load(f, encoding=\"latin-1\")\n",
    "\n",
    "knn = Naive_kNN(metrics=manhattan)\n",
    "wknn = Weighted_kNN(metrics=manhattan)\n",
    "knn.fit(data, types)\n",
    "wknn.fit(data, types)\n",
    "test = [[6.8, 3.3, 4.6, 1.5],\n",
    "        [5, 3, 1.4, 0.2],\n",
    "        [5.1, 2, 3.1, 1.1],\n",
    "        [6.9, 5, 3, 1.5],\n",
    "        [7.1, 3.3, 5.1, 2]]\n",
    "for v in test:\n",
    "    print(\"kNN: %s, weighted kNN: %s\" % (knn.predict(v), wknn.predict(v)))"
   ]
  },
  {
   "cell_type": "markdown",
   "metadata": {
    "collapsed": true
   },
   "source": [
    "#### Метрика l-inf:"
   ]
  },
  {
   "cell_type": "code",
   "execution_count": 3,
   "metadata": {
    "collapsed": false
   },
   "outputs": [
    {
     "name": "stdout",
     "output_type": "stream",
     "text": [
      "kNN: 1, weighted kNN: 1\n",
      "kNN: 0, weighted kNN: 0\n",
      "kNN: 1, weighted kNN: 1\n",
      "kNN: 0, weighted kNN: 0\n",
      "kNN: 2, weighted kNN: 2\n"
     ]
    }
   ],
   "source": [
    "import pickle\n",
    "from kNN import *\n",
    "from metrics import *\n",
    "\n",
    "with open(\"iris.txt\", \"rb\") as f:\n",
    "    data, types = pickle.load(f, encoding=\"latin-1\")\n",
    "\n",
    "knn = Naive_kNN(metrics=l_inf)\n",
    "wknn = Weighted_kNN(metrics=l_inf)\n",
    "knn.fit(data, types)\n",
    "wknn.fit(data, types)\n",
    "test = [[6.8, 3.3, 4.6, 1.5],\n",
    "        [5, 3, 1.4, 0.2],\n",
    "        [5.1, 2, 3.1, 1.1],\n",
    "        [6.9, 5, 3, 1.5],\n",
    "        [7.1, 3.3, 5.1, 2]]\n",
    "for v in test:\n",
    "    print(\"kNN: %s, weighted kNN: %s\" % (knn.predict(v), wknn.predict(v)))"
   ]
  },
  {
   "cell_type": "markdown",
   "metadata": {},
   "source": [
    "## Часть 2. CV, тесты."
   ]
  },
  {
   "cell_type": "markdown",
   "metadata": {
    "collapsed": true
   },
   "source": [
    "Для кросс-валидации реализованных kNN использовался k-fold из предыдущей лабораторной, для кросс-валидации sklearn использовался встроенный метод.\n",
    "\n",
    "Результат sckearn:"
   ]
  },
  {
   "cell_type": "code",
   "execution_count": 9,
   "metadata": {
    "collapsed": false
   },
   "outputs": [
    {
     "name": "stdout",
     "output_type": "stream",
     "text": [
      "0.98\n"
     ]
    }
   ],
   "source": [
    "from sklearn.neighbors import KNeighborsClassifier\n",
    "\n",
    "with open(\"iris.txt\", \"rb\") as f:\n",
    "    data, types = pickle.load(f, encoding=\"latin-1\")\n",
    "\n",
    "skl_knn = KNeighborsClassifier(n_neighbors=10, algorithm=\"brute\")\n",
    "skl_knn.fit(data, types)\n",
    "print(\"sklearn kNN result: %s\" % skl_knn.score(data, types))"
   ]
  },
  {
   "cell_type": "markdown",
   "metadata": {},
   "source": [
    "Тесты с различными k и метриками kNN из лабораторной:"
   ]
  },
  {
   "cell_type": "markdown",
   "metadata": {},
   "source": [
    "#### Евклидова метрика"
   ]
  },
  {
   "cell_type": "code",
   "execution_count": 11,
   "metadata": {
    "collapsed": false
   },
   "outputs": [
    {
     "name": "stdout",
     "output_type": "stream",
     "text": [
      "Using k = 1. Naive kNN result: 0.9333333333333333; Weighted kNN result: 0.9333333333333333; sklearn result: 1.0.\n",
      "Using k = 2. Naive kNN result: 0.9333333333333333; Weighted kNN result: 0.9333333333333333; sklearn result: 0.98.\n",
      "Using k = 3. Naive kNN result: 0.9333333333333333; Weighted kNN result: 0.9333333333333333; sklearn result: 0.96.\n",
      "Using k = 4. Naive kNN result: 0.9333333333333333; Weighted kNN result: 0.9333333333333333; sklearn result: 0.96.\n",
      "Using k = 5. Naive kNN result: 0.9333333333333333; Weighted kNN result: 0.9333333333333333; sklearn result: 0.966666666667.\n",
      "Using k = 6. Naive kNN result: 0.9333333333333333; Weighted kNN result: 0.9333333333333333; sklearn result: 0.973333333333.\n",
      "Using k = 7. Naive kNN result: 0.9333333333333333; Weighted kNN result: 0.9333333333333333; sklearn result: 0.973333333333.\n",
      "Using k = 8. Naive kNN result: 0.9333333333333333; Weighted kNN result: 0.9333333333333333; sklearn result: 0.98.\n",
      "Using k = 9. Naive kNN result: 0.9333333333333333; Weighted kNN result: 0.9333333333333333; sklearn result: 0.98.\n"
     ]
    }
   ],
   "source": [
    "import pickle\n",
    "from kNN import *\n",
    "from metrics import *\n",
    "from CV import *\n",
    "\n",
    "with open(\"iris.txt\", \"rb\") as f:\n",
    "    data, types = pickle.load(f, encoding=\"latin-1\")\n",
    "\n",
    "knn = Naive_kNN(metrics=euclides)\n",
    "wknn = Weighted_kNN(metrics=euclides)\n",
    "for k in range(1, 10):\n",
    "    skl_knn = KNeighborsClassifier(n_neighbors=k, algorithm=\"brute\", metric=\"euclidean\")\n",
    "    skl_knn.fit(data, types)\n",
    "    print(\"Using k = %s. Naive kNN result: %s; Weighted kNN result: %s; sklearn result: %s.\" %\n",
    "          (k, k_fold(10, data, types, knn), k_fold(10, data, types, wknn), skl_knn.score(data, types)))"
   ]
  },
  {
   "cell_type": "markdown",
   "metadata": {},
   "source": [
    "#### Манхэттенская метрика"
   ]
  },
  {
   "cell_type": "code",
   "execution_count": 12,
   "metadata": {
    "collapsed": false
   },
   "outputs": [
    {
     "name": "stdout",
     "output_type": "stream",
     "text": [
      "Using k = 1. Naive kNN result: 0.9333333333333336; Weighted kNN result: 0.9333333333333336; sklearn result: 1.0.\n",
      "Using k = 2. Naive kNN result: 0.9333333333333336; Weighted kNN result: 0.9333333333333336; sklearn result: 0.973333333333.\n",
      "Using k = 3. Naive kNN result: 0.9333333333333336; Weighted kNN result: 0.9333333333333336; sklearn result: 0.96.\n",
      "Using k = 4. Naive kNN result: 0.9333333333333336; Weighted kNN result: 0.9333333333333336; sklearn result: 0.96.\n",
      "Using k = 5. Naive kNN result: 0.9333333333333336; Weighted kNN result: 0.9333333333333336; sklearn result: 0.966666666667.\n",
      "Using k = 6. Naive kNN result: 0.9333333333333336; Weighted kNN result: 0.9333333333333336; sklearn result: 0.953333333333.\n",
      "Using k = 7. Naive kNN result: 0.9333333333333336; Weighted kNN result: 0.9333333333333336; sklearn result: 0.973333333333.\n",
      "Using k = 8. Naive kNN result: 0.9333333333333336; Weighted kNN result: 0.9333333333333336; sklearn result: 0.96.\n",
      "Using k = 9. Naive kNN result: 0.9333333333333336; Weighted kNN result: 0.9333333333333336; sklearn result: 0.966666666667.\n"
     ]
    }
   ],
   "source": [
    "import pickle\n",
    "from kNN import *\n",
    "from metrics import *\n",
    "from CV import *\n",
    "\n",
    "with open(\"iris.txt\", \"rb\") as f:\n",
    "    data, types = pickle.load(f, encoding=\"latin-1\")\n",
    "\n",
    "knn = Naive_kNN(metrics=manhattan)\n",
    "wknn = Weighted_kNN(metrics=manhattan)\n",
    "for k in range(1, 10):\n",
    "    skl_knn = KNeighborsClassifier(n_neighbors=k, algorithm=\"brute\", metric=\"manhattan\")\n",
    "    skl_knn.fit(data, types)\n",
    "    print(\"Using k = %s. Naive kNN result: %s; Weighted kNN result: %s; sklearn result: %s.\" %\n",
    "          (k, k_fold(10, data, types, knn), k_fold(10, data, types, wknn), skl_knn.score(data, types)))"
   ]
  },
  {
   "cell_type": "markdown",
   "metadata": {},
   "source": [
    "#### Метрика l-inf:"
   ]
  },
  {
   "cell_type": "code",
   "execution_count": 8,
   "metadata": {
    "collapsed": false
   },
   "outputs": [
    {
     "name": "stdout",
     "output_type": "stream",
     "text": [
      "Using k = 1. Naive kNN result: 0.9133333333333334; Weighted kNN result: 0.9133333333333334.\n",
      "Using k = 2. Naive kNN result: 0.9133333333333334; Weighted kNN result: 0.9133333333333334.\n",
      "Using k = 3. Naive kNN result: 0.9133333333333334; Weighted kNN result: 0.9133333333333334.\n",
      "Using k = 4. Naive kNN result: 0.9133333333333334; Weighted kNN result: 0.9133333333333334.\n",
      "Using k = 5. Naive kNN result: 0.9133333333333334; Weighted kNN result: 0.9133333333333334.\n",
      "Using k = 6. Naive kNN result: 0.9133333333333334; Weighted kNN result: 0.9133333333333334.\n",
      "Using k = 7. Naive kNN result: 0.9133333333333334; Weighted kNN result: 0.9133333333333334.\n",
      "Using k = 8. Naive kNN result: 0.9133333333333334; Weighted kNN result: 0.9133333333333334.\n",
      "Using k = 9. Naive kNN result: 0.9133333333333334; Weighted kNN result: 0.9133333333333334.\n"
     ]
    }
   ],
   "source": [
    "import pickle\n",
    "from kNN import *\n",
    "from metrics import *\n",
    "from CV import *\n",
    "\n",
    "with open(\"iris.txt\", \"rb\") as f:\n",
    "    data, types = pickle.load(f, encoding=\"latin-1\")\n",
    "\n",
    "knn = Naive_kNN(metrics=l_inf)\n",
    "wknn = Weighted_kNN(metrics=l_inf)\n",
    "for k in range(1, 10):\n",
    "    print(\"Using k = %s. Naive kNN result: %s; Weighted kNN result: %s.\" %\n",
    "          (k, k_fold(10, data, types, knn), k_fold(10, data, types, wknn)))"
   ]
  },
  {
   "cell_type": "markdown",
   "metadata": {},
   "source": [
    "## Часть 3. Grid search"
   ]
  },
  {
   "cell_type": "code",
   "execution_count": 1,
   "metadata": {
    "collapsed": true
   },
   "outputs": [],
   "source": [
    "def grid_search(model, data_x, data_y):\n",
    "    k = 1\n",
    "    best_score = 0\n",
    "    for i in range(1, 100):\n",
    "        model.set_k(i)\n",
    "        score = k_fold(10, data_x, data_y, model)\n",
    "        if score > best_score:\n",
    "            best_score = score\n",
    "            k = i\n",
    "    return k"
   ]
  },
  {
   "cell_type": "markdown",
   "metadata": {},
   "source": [
    "Оптимальный k для датасета с ирисами:"
   ]
  },
  {
   "cell_type": "code",
   "execution_count": 2,
   "metadata": {
    "collapsed": false
   },
   "outputs": [
    {
     "name": "stdout",
     "output_type": "stream",
     "text": [
      "Optimal k: 1\n",
      "CV result: 0.9600000000000002\n"
     ]
    }
   ],
   "source": [
    "import pickle\n",
    "from kNN import *\n",
    "from metrics import *\n",
    "from CV import *\n",
    "\n",
    "with open(\"iris.txt\", \"rb\") as f:\n",
    "    data, types = pickle.load(f, encoding=\"latin-1\")\n",
    "    \n",
    "def grid_search(model, data_x, data_y):\n",
    "    k = 1\n",
    "    best_score = 0\n",
    "    for i in range(1, 100):\n",
    "        model.set_k(i)\n",
    "        score = k_fold(10, data_x, data_y, model)\n",
    "        if score > best_score:\n",
    "            best_score = score\n",
    "            k = i\n",
    "    return k\n",
    "\n",
    "knn = Naive_kNN(metrics=euclides)\n",
    "k = grid_search(knn, data, types)\n",
    "knn.set_k(k)\n",
    "print(\"Optimal k: %s\" % k)\n",
    "print(\"CV result: %s\" % k_fold(10, data, types, knn))"
   ]
  },
  {
   "cell_type": "code",
   "execution_count": null,
   "metadata": {
    "collapsed": true
   },
   "outputs": [],
   "source": []
  }
 ],
 "metadata": {
  "kernelspec": {
   "display_name": "Python 3",
   "language": "python",
   "name": "python3"
  },
  "language_info": {
   "codemirror_mode": {
    "name": "ipython",
    "version": 3
   },
   "file_extension": ".py",
   "mimetype": "text/x-python",
   "name": "python",
   "nbconvert_exporter": "python",
   "pygments_lexer": "ipython3",
   "version": "3.4.3"
  }
 },
 "nbformat": 4,
 "nbformat_minor": 0
}
