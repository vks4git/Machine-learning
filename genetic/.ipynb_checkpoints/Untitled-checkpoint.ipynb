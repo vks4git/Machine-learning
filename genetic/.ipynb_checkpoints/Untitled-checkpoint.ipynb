{
 "cells": [
  {
   "cell_type": "markdown",
   "metadata": {},
   "source": [
    "# Генетические алгоритмы"
   ]
  },
  {
   "cell_type": "markdown",
   "metadata": {},
   "source": [
    "Был исследован генетичнский алгоритм, построенный на случайной начальной популяции, плоском кроссинговере и турнирном отборе. С помощью алгоритма находилса минимум трёх функций:\n",
    "\n",
    "— параболоида с минимумом в (4, -2);\n",
    "\n",
    "— сложной синусоидальной поверхности, задаваемой уравнением f(x, y) = exp((x + y - 4)/100) * (sinx + cosy) + exp(x + y + 2) — у неё множество глобальных минимумов, значение в них -1.7689603125398483;\n",
    "\n",
    "— функции Розенброка с единственным глобальным минимумом в (1, 1)\n"
   ]
  },
  {
   "cell_type": "markdown",
   "metadata": {},
   "source": [
    "### Экстремум параболоида с различными параметрами:"
   ]
  },
  {
   "cell_type": "code",
   "execution_count": 1,
   "metadata": {
    "collapsed": false
   },
   "outputs": [
    {
     "name": "stdout",
     "output_type": "stream",
     "text": [
      "Population size: 2; x: 9.803282140910138, y: 29.530633078684975, f: 1026.8589059496699\n",
      "Population size: 5; x: 23.64685170243735, y: -40.20116829390988, f: 1844.328040837191\n",
      "Population size: 10; x: 3.9999858020743075, y: -1.9939284897443057, f: -0.9999631365616339\n",
      "Population size: 100; x: 3.999999999822934, y: -1.9999999983088805, f: -1.0\n"
     ]
    }
   ],
   "source": [
    "from main_tx import *\n",
    "ans = genetic_alg(nice_func, [-100, -100], [100, 100], 2) # Размер популяции 2\n",
    "print(\"Population size: 2; x: %s, y: %s, f: %s\" % (ans.x, ans.y, ans.f))\n",
    "ans = genetic_alg(nice_func, [-100, -100], [100, 100], 5) # Размер популяции 5\n",
    "print(\"Population size: 5; x: %s, y: %s, f: %s\" % (ans.x, ans.y, ans.f))\n",
    "ans = genetic_alg(nice_func, [-100, -100], [100, 100], 10) # Размер популяции 10\n",
    "print(\"Population size: 10; x: %s, y: %s, f: %s\" % (ans.x, ans.y, ans.f))\n",
    "ans = genetic_alg(nice_func, [-100, -100], [100, 100], 100) # Размер популяции 100\n",
    "print(\"Population size: 100; x: %s, y: %s, f: %s\" % (ans.x, ans.y, ans.f))\n"
   ]
  },
  {
   "cell_type": "markdown",
   "metadata": {
    "collapsed": true
   },
   "source": [
    "Как видно, чем больше размер популяций, тем точнее находится экстремум."
   ]
  },
  {
   "cell_type": "markdown",
   "metadata": {},
   "source": [
    "### Экстремум синусоидальной поверхности"
   ]
  },
  {
   "cell_type": "code",
   "execution_count": 2,
   "metadata": {
    "collapsed": false
   },
   "outputs": [
    {
     "name": "stdout",
     "output_type": "stream",
     "text": [
      "Population size: 2; x: 6.432243551895269, y: 8.173194153377096, f: 16279833.545066083\n",
      "Population size: 5; x: -51.49026592006231, y: -3.1211957565765145, f: -1.0798732097223345\n",
      "Population size: 10; x: 48.61317428145262, y: -53.4492406531446, f: -1.76835223879823\n",
      "Population size: 100; x: -20.466488076987233, y: 15.661827439354973, f: -1.7689603125398483\n"
     ]
    }
   ],
   "source": [
    "from main_tx import *\n",
    "ans = genetic_alg(weird_func, [-100, -100], [100, 100], 2) # Размер популяции 2\n",
    "print(\"Population size: 2; x: %s, y: %s, f: %s\" % (ans.x, ans.y, ans.f))\n",
    "ans = genetic_alg(weird_func, [-100, -100], [100, 100], 5) # Размер популяции 5\n",
    "print(\"Population size: 5; x: %s, y: %s, f: %s\" % (ans.x, ans.y, ans.f))\n",
    "ans = genetic_alg(weird_func, [-100, -100], [100, 100], 10) # Размер популяции 10\n",
    "print(\"Population size: 10; x: %s, y: %s, f: %s\" % (ans.x, ans.y, ans.f))\n",
    "ans = genetic_alg(weird_func, [-100, -100], [100, 100], 100) # Размер популяции 100\n",
    "print(\"Population size: 100; x: %s, y: %s, f: %s\" % (ans.x, ans.y, ans.f))"
   ]
  },
  {
   "cell_type": "markdown",
   "metadata": {},
   "source": [
    "Наблюдается аналогичная тенденция: уже при размере популяции равном 10 алгоритм выдаёт приемлемые результаты."
   ]
  },
  {
   "cell_type": "markdown",
   "metadata": {},
   "source": [
    "### Экстремум функции Розенброка"
   ]
  },
  {
   "cell_type": "code",
   "execution_count": 3,
   "metadata": {
    "collapsed": false
   },
   "outputs": [
    {
     "name": "stdout",
     "output_type": "stream",
     "text": [
      "Population size: 2; x: 6.7980041851915605, y: 47.62590677113813, f: 233.2867153936882\n",
      "Population size: 5; x: -5.505459244488469, y: 30.31857133970068, f: 42.328207731869995\n",
      "Population size: 10; x: 1.6091489877403902, y: 2.589438309044716, f: 0.37106309523862746\n",
      "Population size: 100; x: 1.0, y: 1.0, f: 0.0\n"
     ]
    }
   ],
   "source": [
    "from main_tx import *\n",
    "ans = genetic_alg(banana_func, [-100, -100], [100, 100], 2) # Размер популяции 2\n",
    "print(\"Population size: 2; x: %s, y: %s, f: %s\" % (ans.x, ans.y, ans.f))\n",
    "ans = genetic_alg(banana_func, [-100, -100], [100, 100], 5) # Размер популяции 5\n",
    "print(\"Population size: 5; x: %s, y: %s, f: %s\" % (ans.x, ans.y, ans.f))\n",
    "ans = genetic_alg(banana_func, [-100, -100], [100, 100], 10) # Размер популяции 10\n",
    "print(\"Population size: 10; x: %s, y: %s, f: %s\" % (ans.x, ans.y, ans.f))\n",
    "ans = genetic_alg(banana_func, [-100, -100], [100, 100], 100) # Размер популяции 100\n",
    "print(\"Population size: 100; x: %s, y: %s, f: %s\" % (ans.x, ans.y, ans.f))"
   ]
  },
  {
   "cell_type": "markdown",
   "metadata": {},
   "source": [
    "Здесь уже понадобился размер популяции в 100 особей, чтоб найти экстремум. Зато это было сделано с идеальной точностью и очень быстро (ни одним из этих качеств не смог похвастаться градиентный спуск)"
   ]
  },
  {
   "cell_type": "code",
   "execution_count": null,
   "metadata": {
    "collapsed": true
   },
   "outputs": [],
   "source": []
  }
 ],
 "metadata": {
  "kernelspec": {
   "display_name": "Python 3",
   "language": "python",
   "name": "python3"
  },
  "language_info": {
   "codemirror_mode": {
    "name": "ipython",
    "version": 3
   },
   "file_extension": ".py",
   "mimetype": "text/x-python",
   "name": "python",
   "nbconvert_exporter": "python",
   "pygments_lexer": "ipython3",
   "version": "3.4.3+"
  }
 },
 "nbformat": 4,
 "nbformat_minor": 0
}
