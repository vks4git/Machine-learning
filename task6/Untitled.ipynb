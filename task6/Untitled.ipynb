{
 "cells": [
  {
   "cell_type": "markdown",
   "metadata": {
    "collapsed": true
   },
   "source": [
    "# AdaBoost\n",
    "\n",
    "Собственно, AdaBoost на основе признаков Хаара. На каждой итерации строится случайная маска, и если ошибка с её использованием больше 0.5, маска умножается на -1. Таким образом, все классификаторы выдают результат лучше случайного (ошибка < 0.5) — условия сходимости алгоритма выполнены. \n",
    "Код — в файле adaboost.py\n",
    "\n",
    "Посмотрим на зависимость ошибки от количества используемых классификаторов:\n",
    "\n",
    "### 50 классификаторов"
   ]
  },
  {
   "cell_type": "code",
   "execution_count": 2,
   "metadata": {
    "collapsed": false
   },
   "outputs": [
    {
     "name": "stdout",
     "output_type": "stream",
     "text": [
      "Score is 0.2639\n"
     ]
    }
   ],
   "source": [
    "from idx2numpy import convert_from_file\n",
    "from adaboost import AdaBoostMulticlass\n",
    "from numpy import reshape, multiply\n",
    "\n",
    "train_images = reshape(convert_from_file(\"train-images.idx3-ubyte\").astype('float64'), (60000, 784))\n",
    "train_labels = convert_from_file(\"train-labels.idx1-ubyte\")\n",
    "test_images = reshape(convert_from_file(\"t10k-images.idx3-ubyte\").astype('float64'), (10000, 784))\n",
    "test_labels = convert_from_file(\"t10k-labels.idx1-ubyte\")\n",
    "\n",
    "train_images = multiply(train_images, 1 / 255)\n",
    "test_images = multiply(test_images, 1 / 255)\n",
    "\n",
    "ada = AdaBoostMulticlass(50)\n",
    "ada.fit(train_images, train_labels)\n",
    "score = 0\n",
    "for i in range(10000):\n",
    "    if ada.predict(test_images[i]) == test_labels[i]:\n",
    "        score += 1\n",
    "\n",
    "print(\"Score is %s\" % (score / 10000))"
   ]
  },
  {
   "cell_type": "markdown",
   "metadata": {},
   "source": [
    "### 500 классификаторов"
   ]
  },
  {
   "cell_type": "code",
   "execution_count": 3,
   "metadata": {
    "collapsed": false
   },
   "outputs": [
    {
     "name": "stdout",
     "output_type": "stream",
     "text": [
      "Score is 0.3968\n"
     ]
    }
   ],
   "source": [
    "from idx2numpy import convert_from_file\n",
    "from adaboost import AdaBoostMulticlass\n",
    "from numpy import reshape, multiply\n",
    "\n",
    "train_images = reshape(convert_from_file(\"train-images.idx3-ubyte\").astype('float64'), (60000, 784))\n",
    "train_labels = convert_from_file(\"train-labels.idx1-ubyte\")\n",
    "test_images = reshape(convert_from_file(\"t10k-images.idx3-ubyte\").astype('float64'), (10000, 784))\n",
    "test_labels = convert_from_file(\"t10k-labels.idx1-ubyte\")\n",
    "\n",
    "train_images = multiply(train_images, 1 / 255)\n",
    "test_images = multiply(test_images, 1 / 255)\n",
    "\n",
    "ada = AdaBoostMulticlass(500)\n",
    "ada.fit(train_images, train_labels)\n",
    "score = 0\n",
    "for i in range(10000):\n",
    "    if ada.predict(test_images[i]) == test_labels[i]:\n",
    "        score += 1\n",
    "\n",
    "print(\"Score is %s\" % (score / 10000))"
   ]
  },
  {
   "cell_type": "markdown",
   "metadata": {},
   "source": [
    "### 10000 классификаторов"
   ]
  },
  {
   "cell_type": "code",
   "execution_count": 4,
   "metadata": {
    "collapsed": false
   },
   "outputs": [
    {
     "name": "stdout",
     "output_type": "stream",
     "text": [
      "Score is 0.4867\n",
      "Hardcore version with 10k classifiers took 10.0 h. 50.0 m. 12.542388677597046 s.\n"
     ]
    }
   ],
   "source": [
    "from idx2numpy import convert_from_file\n",
    "from adaboost import AdaBoostMulticlass\n",
    "from numpy import reshape, multiply\n",
    "from time import time\n",
    "\n",
    "train_images = reshape(convert_from_file(\"train-images.idx3-ubyte\").astype('float64'), (60000, 784))\n",
    "train_labels = convert_from_file(\"train-labels.idx1-ubyte\")\n",
    "test_images = reshape(convert_from_file(\"t10k-images.idx3-ubyte\").astype('float64'), (10000, 784))\n",
    "test_labels = convert_from_file(\"t10k-labels.idx1-ubyte\")\n",
    "\n",
    "train_images = multiply(train_images, 1 / 255)\n",
    "test_images = multiply(test_images, 1 / 255)\n",
    "\n",
    "start = time()\n",
    "ada = AdaBoostMulticlass(10000)\n",
    "ada.fit(train_images, train_labels)\n",
    "score = 0\n",
    "for i in range(10000):\n",
    "    if ada.predict(test_images[i]) == test_labels[i]:\n",
    "        score += 1\n",
    "\n",
    "print(\"Score is %s\" % (score / 10000))\n",
    "finish = time() - start\n",
    "h = finish // 3600\n",
    "m = (finish % 3600) // 60\n",
    "s = finish - h * 3600 - m * 60\n",
    "print(\"Hardcore version with 10k classifiers took %s h. %s m. %s s.\" % (h, m, s))"
   ]
  },
  {
   "cell_type": "code",
   "execution_count": null,
   "metadata": {
    "collapsed": true
   },
   "outputs": [],
   "source": []
  }
 ],
 "metadata": {
  "kernelspec": {
   "display_name": "Python 3",
   "language": "python",
   "name": "python3"
  },
  "language_info": {
   "codemirror_mode": {
    "name": "ipython",
    "version": 3
   },
   "file_extension": ".py",
   "mimetype": "text/x-python",
   "name": "python",
   "nbconvert_exporter": "python",
   "pygments_lexer": "ipython3",
   "version": "3.4.3"
  }
 },
 "nbformat": 4,
 "nbformat_minor": 0
}
